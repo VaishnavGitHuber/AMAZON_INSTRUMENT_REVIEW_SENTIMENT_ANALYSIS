{
 "cells": [
  {
   "cell_type": "markdown",
   "id": "9bf2542d-02f1-4f86-a42e-3c13a773636c",
   "metadata": {},
   "source": [
    "### Author: Vaishnav Krishna P\n",
    "#### INTERNSHIP : TEACHNOOK\n",
    "#### Dataset Link: https://www.kaggle.com/datasets/eswarchandt/amazon-music-reviews?resource=download"
   ]
  },
  {
   "cell_type": "markdown",
   "id": "d9fa6436-94ce-4a3c-b4a6-2b758c36fef9",
   "metadata": {},
   "source": [
    "#### Context : \n",
    "- Webportals like Bhuvan get vast amount of feedback from the users. To go through all the feedback's can be a tedious job. You have to categorize opinions expressed in feedback forums. This can be utilized for feedback management system. We Classification of individual comments/reviews.and we also determining overall rating based on individual comments/reviews. So that company can get a complete idea on feedback's provided by customers and can take care on those particular fields. This makes more loyal Customers to the company, increase in business , fame ,brand value ,profits.\n",
    "#### About the dataset : \n",
    "- 1. reviewerID - ID of the reviewer, e.g. A2SUAM1J3GNN3B\n",
    "- 2. asin - ID of the product, e.g. 0000013714\n",
    "- 3. reviewerName - name of the reviewer\n",
    "- 4. helpful - helpfulness rating of the review, e.g. 2/3\n",
    "- 5. reviewText - text of the review\n",
    "- 6. overall - rating of the product\n",
    "- 7. summary - summary of the review\n",
    "- 8. unixReviewTime - time of the review (unix time)\n",
    "- 9. reviewTime - time of the review (raw)\n",
    "#### Task : \n",
    "- You have to perform Sentimental Analysis for this data. Help the organization to understand better about their customer feedback's So that they can concentrate on those issues customer's are facing. Build the model which has highest accuracy in classifying the feedback as positive,Negative and neutral.\n",
    "- Task 1 : You have to categorize opinions expressed in feedback forums\n",
    "- Task 2 : You have to classify individual comments/reviews and you have to determine overall rating based on individual\n",
    "comments/reviews."
   ]
  },
  {
   "cell_type": "code",
   "execution_count": 221,
   "id": "381fe411-ecf1-4969-9aa2-dd35d7ee82f3",
   "metadata": {},
   "outputs": [
    {
     "name": "stderr",
     "output_type": "stream",
     "text": [
      "[nltk_data] Downloading package punkt to\n",
      "[nltk_data]     /Users/vyshnavkrishna/nltk_data...\n",
      "[nltk_data]   Package punkt is already up-to-date!\n",
      "[nltk_data] Downloading package punkt_tab to\n",
      "[nltk_data]     /Users/vyshnavkrishna/nltk_data...\n",
      "[nltk_data]   Package punkt_tab is already up-to-date!\n",
      "[nltk_data] Downloading package stopwords to\n",
      "[nltk_data]     /Users/vyshnavkrishna/nltk_data...\n",
      "[nltk_data]   Package stopwords is already up-to-date!\n",
      "[nltk_data] Downloading package wordnet to\n",
      "[nltk_data]     /Users/vyshnavkrishna/nltk_data...\n",
      "[nltk_data]   Package wordnet is already up-to-date!\n"
     ]
    },
    {
     "data": {
      "text/plain": [
       "True"
      ]
     },
     "execution_count": 221,
     "metadata": {},
     "output_type": "execute_result"
    }
   ],
   "source": [
    "# importing the necessory libraries \n",
    "import string\n",
    "import pickle\n",
    "import re\n",
    "import pandas as pd\n",
    "import numpy as np\n",
    "import seaborn as sns \n",
    "import matplotlib.pyplot as plt\n",
    "# Ignoring the unnecessory warnings \n",
    "import warnings\n",
    "warnings.filterwarnings(action='ignore')\n",
    "# Machine Learning models \n",
    "from imblearn.over_sampling import SMOTE\n",
    "from sklearn.model_selection import GridSearchCV,train_test_split\n",
    "from sklearn.linear_model import LogisticRegression\n",
    "from sklearn.svm import SVC\n",
    "from sklearn.naive_bayes import MultinomialNB\n",
    "from sklearn.tree import DecisionTreeClassifier\n",
    "from sklearn.ensemble import RandomForestClassifier\n",
    "from sklearn.neighbors import KNeighborsClassifier\n",
    "from sklearn.metrics import accuracy_score, confusion_matrix, classification_report\n",
    "# downloading the stopwords \n",
    "from nltk import word_tokenize,download\n",
    "from nltk.corpus import stopwords\n",
    "from nltk.stem import PorterStemmer,WordNetLemmatizer\n",
    "from sklearn.preprocessing import LabelEncoder\n",
    "from sklearn.feature_extraction.text import TfidfVectorizer\n",
    "# downloading necessory libraries from NLTK\n",
    "download('punkt')\n",
    "download('punkt_tab')\n",
    "download('stopwords')\n",
    "download('wordnet')"
   ]
  },
  {
   "cell_type": "code",
   "execution_count": 4,
   "id": "790ceca9-5026-4883-ae6d-5122d5a4bfea",
   "metadata": {},
   "outputs": [],
   "source": [
    "# Loading the dataset \n",
    "df = pd.read_csv('Musical_instruments_reviews.csv')"
   ]
  },
  {
   "cell_type": "code",
   "execution_count": 5,
   "id": "c2150586-c21d-4ab3-90b6-919d03a90ad2",
   "metadata": {},
   "outputs": [
    {
     "data": {
      "text/html": [
       "<div>\n",
       "<style scoped>\n",
       "    .dataframe tbody tr th:only-of-type {\n",
       "        vertical-align: middle;\n",
       "    }\n",
       "\n",
       "    .dataframe tbody tr th {\n",
       "        vertical-align: top;\n",
       "    }\n",
       "\n",
       "    .dataframe thead th {\n",
       "        text-align: right;\n",
       "    }\n",
       "</style>\n",
       "<table border=\"1\" class=\"dataframe\">\n",
       "  <thead>\n",
       "    <tr style=\"text-align: right;\">\n",
       "      <th></th>\n",
       "      <th>reviewerID</th>\n",
       "      <th>asin</th>\n",
       "      <th>reviewerName</th>\n",
       "      <th>helpful</th>\n",
       "      <th>reviewText</th>\n",
       "      <th>overall</th>\n",
       "      <th>summary</th>\n",
       "      <th>unixReviewTime</th>\n",
       "      <th>reviewTime</th>\n",
       "    </tr>\n",
       "  </thead>\n",
       "  <tbody>\n",
       "    <tr>\n",
       "      <th>0</th>\n",
       "      <td>A2IBPI20UZIR0U</td>\n",
       "      <td>1384719342</td>\n",
       "      <td>cassandra tu \"Yeah, well, that's just like, u...</td>\n",
       "      <td>[0, 0]</td>\n",
       "      <td>Not much to write about here, but it does exac...</td>\n",
       "      <td>5.0</td>\n",
       "      <td>good</td>\n",
       "      <td>1393545600</td>\n",
       "      <td>02 28, 2014</td>\n",
       "    </tr>\n",
       "    <tr>\n",
       "      <th>1</th>\n",
       "      <td>A14VAT5EAX3D9S</td>\n",
       "      <td>1384719342</td>\n",
       "      <td>Jake</td>\n",
       "      <td>[13, 14]</td>\n",
       "      <td>The product does exactly as it should and is q...</td>\n",
       "      <td>5.0</td>\n",
       "      <td>Jake</td>\n",
       "      <td>1363392000</td>\n",
       "      <td>03 16, 2013</td>\n",
       "    </tr>\n",
       "    <tr>\n",
       "      <th>2</th>\n",
       "      <td>A195EZSQDW3E21</td>\n",
       "      <td>1384719342</td>\n",
       "      <td>Rick Bennette \"Rick Bennette\"</td>\n",
       "      <td>[1, 1]</td>\n",
       "      <td>The primary job of this device is to block the...</td>\n",
       "      <td>5.0</td>\n",
       "      <td>It Does The Job Well</td>\n",
       "      <td>1377648000</td>\n",
       "      <td>08 28, 2013</td>\n",
       "    </tr>\n",
       "    <tr>\n",
       "      <th>3</th>\n",
       "      <td>A2C00NNG1ZQQG2</td>\n",
       "      <td>1384719342</td>\n",
       "      <td>RustyBill \"Sunday Rocker\"</td>\n",
       "      <td>[0, 0]</td>\n",
       "      <td>Nice windscreen protects my MXL mic and preven...</td>\n",
       "      <td>5.0</td>\n",
       "      <td>GOOD WINDSCREEN FOR THE MONEY</td>\n",
       "      <td>1392336000</td>\n",
       "      <td>02 14, 2014</td>\n",
       "    </tr>\n",
       "    <tr>\n",
       "      <th>4</th>\n",
       "      <td>A94QU4C90B1AX</td>\n",
       "      <td>1384719342</td>\n",
       "      <td>SEAN MASLANKA</td>\n",
       "      <td>[0, 0]</td>\n",
       "      <td>This pop filter is great. It looks and perform...</td>\n",
       "      <td>5.0</td>\n",
       "      <td>No more pops when I record my vocals.</td>\n",
       "      <td>1392940800</td>\n",
       "      <td>02 21, 2014</td>\n",
       "    </tr>\n",
       "  </tbody>\n",
       "</table>\n",
       "</div>"
      ],
      "text/plain": [
       "       reviewerID        asin  \\\n",
       "0  A2IBPI20UZIR0U  1384719342   \n",
       "1  A14VAT5EAX3D9S  1384719342   \n",
       "2  A195EZSQDW3E21  1384719342   \n",
       "3  A2C00NNG1ZQQG2  1384719342   \n",
       "4   A94QU4C90B1AX  1384719342   \n",
       "\n",
       "                                       reviewerName   helpful  \\\n",
       "0  cassandra tu \"Yeah, well, that's just like, u...    [0, 0]   \n",
       "1                                              Jake  [13, 14]   \n",
       "2                     Rick Bennette \"Rick Bennette\"    [1, 1]   \n",
       "3                         RustyBill \"Sunday Rocker\"    [0, 0]   \n",
       "4                                     SEAN MASLANKA    [0, 0]   \n",
       "\n",
       "                                          reviewText  overall  \\\n",
       "0  Not much to write about here, but it does exac...      5.0   \n",
       "1  The product does exactly as it should and is q...      5.0   \n",
       "2  The primary job of this device is to block the...      5.0   \n",
       "3  Nice windscreen protects my MXL mic and preven...      5.0   \n",
       "4  This pop filter is great. It looks and perform...      5.0   \n",
       "\n",
       "                                 summary  unixReviewTime   reviewTime  \n",
       "0                                   good      1393545600  02 28, 2014  \n",
       "1                                   Jake      1363392000  03 16, 2013  \n",
       "2                   It Does The Job Well      1377648000  08 28, 2013  \n",
       "3          GOOD WINDSCREEN FOR THE MONEY      1392336000  02 14, 2014  \n",
       "4  No more pops when I record my vocals.      1392940800  02 21, 2014  "
      ]
     },
     "execution_count": 5,
     "metadata": {},
     "output_type": "execute_result"
    }
   ],
   "source": [
    "# first five data records \n",
    "df.head()"
   ]
  },
  {
   "cell_type": "markdown",
   "id": "165f6351-bae4-4c29-a822-f63db9558429",
   "metadata": {},
   "source": [
    "#### INFORMATION ABOUT THE DATASET"
   ]
  },
  {
   "cell_type": "code",
   "execution_count": 7,
   "id": "acee303e-4880-4c1d-b4d5-eb213ffde7ad",
   "metadata": {},
   "outputs": [
    {
     "data": {
      "text/plain": [
       "(10261, 9)"
      ]
     },
     "execution_count": 7,
     "metadata": {},
     "output_type": "execute_result"
    }
   ],
   "source": [
    "# dimension of the dataset \n",
    "df.shape"
   ]
  },
  {
   "cell_type": "markdown",
   "id": "3a82ac43-6a48-4d9d-ba92-ddc4edbb992f",
   "metadata": {},
   "source": [
    "- There are 10,261 records and 9 features."
   ]
  },
  {
   "cell_type": "code",
   "execution_count": 9,
   "id": "c6e7b37c-df6f-47c0-8b84-ebe81f33f0aa",
   "metadata": {},
   "outputs": [
    {
     "data": {
      "text/plain": [
       "reviewerID         object\n",
       "asin               object\n",
       "reviewerName       object\n",
       "helpful            object\n",
       "reviewText         object\n",
       "overall           float64\n",
       "summary            object\n",
       "unixReviewTime      int64\n",
       "reviewTime         object\n",
       "dtype: object"
      ]
     },
     "execution_count": 9,
     "metadata": {},
     "output_type": "execute_result"
    }
   ],
   "source": [
    "# datatype of the dataset\n",
    "df.dtypes"
   ]
  },
  {
   "cell_type": "markdown",
   "id": "d6be6329-b992-44f6-9dcb-7a0a81b69014",
   "metadata": {},
   "source": [
    "- Except for the overall(rating) and unix review time all the features are objects(string)"
   ]
  },
  {
   "cell_type": "code",
   "execution_count": 11,
   "id": "08a8f3c0-2bfc-484c-a870-9fc265ef726a",
   "metadata": {},
   "outputs": [
    {
     "data": {
      "text/plain": [
       "reviewerID         0\n",
       "asin               0\n",
       "reviewerName      27\n",
       "helpful            0\n",
       "reviewText         7\n",
       "overall            0\n",
       "summary            0\n",
       "unixReviewTime     0\n",
       "reviewTime         0\n",
       "dtype: int64"
      ]
     },
     "execution_count": 11,
     "metadata": {},
     "output_type": "execute_result"
    }
   ],
   "source": [
    "# missing values of the dataset \n",
    "df.isna().sum()"
   ]
  },
  {
   "cell_type": "code",
   "execution_count": 12,
   "id": "84fa6d1e-f35c-463b-8d97-2dfa11ff72a4",
   "metadata": {},
   "outputs": [
    {
     "name": "stdout",
     "output_type": "stream",
     "text": [
      "Features with missing values\n",
      "\u001b[1m reviewerName \u001b[0m has Missing values: 27\n",
      "\u001b[1m reviewText \u001b[0m has Missing values: 7\n"
     ]
    }
   ],
   "source": [
    "# features with missing values are : \n",
    "print(\"Features with missing values\")\n",
    "for feature in df.columns:\n",
    "    if df[feature].isna().sum() > 0:\n",
    "        print(f\"\\033[1m {feature} \\033[0m has Missing values: {df[feature].isna().sum()}\")"
   ]
  },
  {
   "cell_type": "markdown",
   "id": "2eab160d-0258-44e2-b5f1-c772955e1bc6",
   "metadata": {},
   "source": [
    "#### REVIEW & RATING : "
   ]
  },
  {
   "cell_type": "code",
   "execution_count": 14,
   "id": "8217d393-013d-4472-959c-fb1378c19c47",
   "metadata": {
    "scrolled": true
   },
   "outputs": [
    {
     "name": "stdout",
     "output_type": "stream",
     "text": [
      "RECORD 10\n",
      "\n",
      "Review : Monster makes a wide array of cables, including some that are very high end. I initially purchased a pair ofMonster Rock Instrument Cable - 21 Feet - Angled to Straight 1/4-Inch plugto use with my keyboards, but when it came time to purchase cables for my bass and guitar I thought I'd pinch a few pennies.  I am so glad I did.I compared this cable model to the more expensive models I previously purchased and, aside from looks, could not detect any difference in sound. I Swapped back and forth between my guitars and keyboards, ensuring that each model was used on each instrument - still no difference.What the more expensive model has going for it is looks. I am not sure it (the higher priced model) is even more sturdy because the molded stress relief ends on this model seem to make it more reliable than its pricier sibling.Bottom line: carefully compare both cables using your own instrument and amp - if possible - before making a purchase decision. You may find, as I did, that higher price does not necessarily equal higher value, even from the same manufacturer. \n",
      "\n",
      "Summary: One of the best instrument cables within the brand \n",
      "\n",
      "Rating: 5.0\n",
      "\n",
      "RECORD 11\n",
      "\n",
      "Review : I got it to have it if I needed it. I have found that i don't really need it that often and rarely use it. If I was really good I can see the need. But this is a keyboard not an organ. \n",
      "\n",
      "Summary: It works great but I hardly use it. \n",
      "\n",
      "Rating: 4.0\n",
      "\n",
      "RECORD 12\n",
      "\n",
      "Review : If you are not use to using a large sustaining pedal while playing the piano, it may appear little awkward. \n",
      "\n",
      "Summary: HAS TO GET USE TO THE SIZE \n",
      "\n",
      "Rating: 3.0\n",
      "\n",
      "RECORD 13\n",
      "\n",
      "Review : I love it, I used this for my Yamaha ypt-230 and it works great, I would recommend it to anyone \n",
      "\n",
      "Summary: awesome \n",
      "\n",
      "Rating: 5.0\n",
      "\n",
      "RECORD 14\n",
      "\n",
      "Review : I bought this to use in my home studio to control my midi keyboard. It does just what I wanted it to do. \n",
      "\n",
      "Summary: It works! \n",
      "\n",
      "Rating: 5.0\n",
      "\n",
      "RECORD 15\n",
      "\n",
      "Review : I bought this to use with my keyboard. I wasn't really aware that there were other options for keyboard pedals. It doesn't work as smoothly as the pedals do on an acoustic piano, which is what I'd always used. Doesn't have the same feel either. Nowhere close.In my opinion, a sustain pedal like the M-Audio SP-2 Sustain Pedal with Piano Style Action or other similar pedal is a much better choice. The price difference is only a few dollars and the feel and action are so much better. The only thing I've found the Yamaha FC-5 Sustain Pedal is good for is taking up space in a drawer where I keep my electric guitar pedals. \n",
      "\n",
      "Summary: Definitely Not For The Seasoned Piano Player \n",
      "\n",
      "Rating: 2.0\n",
      "\n",
      "RECORD 16\n",
      "\n",
      "Review : This Fender cable is the perfect length for me! Sometimes I find it a bit too long but I don't mind. The build quality is great and I know that it will last. The only gripe I have with this cable is that the metal sleeve gets unscrewed way too easily, requiring me to tighten it often.Sound quality is not affected, and the color is cool, definitely try this cable out. \n",
      "\n",
      "Summary: Durable Instrument Cable \n",
      "\n",
      "Rating: 4.0\n",
      "\n",
      "RECORD 17\n",
      "\n",
      "Review : wanted it just on looks alone...It is a nice looking cord... I know it will perform...as for Sam Ash ...this cord was packed in a mailer inside another box with my Roc n Soc... his shipping team do great work..never any complaints from me... I love Sam Ash.. thanks Amazon \n",
      "\n",
      "Summary: fender 18 ft. Cali clear... \n",
      "\n",
      "Rating: 5.0\n",
      "\n",
      "RECORD 18\n",
      "\n",
      "Review : I've been using these cables for more than 4 months and they are holding up pretty well.  For years I used seemingly indestructable guitar cables that were made for me by an electrician friend.  When they finally gave out, I got in the habit of using the no-name cables that are always on display near the register at Guitar Center- really more of an impulse buy than something I put any thought into.  After the third or fourth Guitar Center cable failed from light use I decided to try these cables.  Not only are they cheaper but they seem to be holding up better.  I am not terribly hard on my gear but my cables tend to get twisted as I move around and the cheaper ones  eventually fail mid-cable.  I don't mind spending a few extra dollars if the cable is a little more durable.  This cable is actually cheaper- $12 or so shipped- and it's holding up pretty well.  These are actually very reasonably priced for 18' cables.  There is some kind of limited life warantee on this product but I haven't needed it.  Five stars for a nicely made 18 foot guitar cable that costs $12 shipped!Incidentally- these cables are shielded and are meant to connect your instrument to your amp's input.  Do not use these to connect an amplifier to a speaker cab.  You want to use unshielded cables for that purpose.Edit-  More than 6 months has passed and this cable is functioning without any issues.  The price on these things has gone up significantly and although the cable is highly recommended, there are probably better values from Hosa, Monster or Planet Waves- \n",
      "\n",
      "Summary: So far so good.  Will revisit at the 6 month mark ;) \n",
      "\n",
      "Rating: 5.0\n",
      "\n",
      "RECORD 19\n",
      "\n",
      "Review : Fender cords look great and work just as well. By adding the word California to the description I'm sure to sound like the Beach Boys... \n",
      "\n",
      "Summary: Add California to the name and I jump! \n",
      "\n",
      "Rating: 5.0\n",
      "\n"
     ]
    }
   ],
   "source": [
    "# Analysing the rating and the reviewText relation\n",
    "for i in range(10,20):\n",
    "    print(\"RECORD {}\\n\".format(i))\n",
    "    print(\"Review : {} \\n\\nSummary: {} \\n\\nRating: {}\\n\".format(df['reviewText'][i], df['summary'][i], df['overall'][i]))"
   ]
  },
  {
   "cell_type": "markdown",
   "id": "a487c877-c26b-4cab-8377-029720c728dc",
   "metadata": {},
   "source": [
    "- from the above analysis, it is understandable that only review or summary cannot give a good accuracy it is better to combine those two for better prediction."
   ]
  },
  {
   "cell_type": "markdown",
   "id": "42e010cc-6fb8-465c-afa8-192cfd96381a",
   "metadata": {},
   "source": [
    "#### RATING DISTRIBUTION "
   ]
  },
  {
   "cell_type": "code",
   "execution_count": 17,
   "id": "81cdde0b-9036-4532-b4b6-d4b9c2470ace",
   "metadata": {},
   "outputs": [
    {
     "data": {
      "text/plain": [
       "overall\n",
       "5.0    6938\n",
       "4.0    2084\n",
       "3.0     772\n",
       "2.0     250\n",
       "1.0     217\n",
       "Name: count, dtype: int64"
      ]
     },
     "execution_count": 17,
     "metadata": {},
     "output_type": "execute_result"
    }
   ],
   "source": [
    "# Checking the values of rating \n",
    "df['overall'].value_counts()"
   ]
  },
  {
   "cell_type": "code",
   "execution_count": 18,
   "id": "cfc52846-cf43-43c3-b637-998e4259fed2",
   "metadata": {},
   "outputs": [
    {
     "data": {
      "image/png": "[encoded data removed]",
      "text/plain": [
       "<Figure size 700x700 with 1 Axes>"
      ]
     },
     "metadata": {},
     "output_type": "display_data"
    }
   ],
   "source": [
    "plt.title(\"Percentage of Rating from the customer\", color='black', fontsize = 15)\n",
    "df['overall'].value_counts().plot(kind='pie', autopct='%1.2f%%', figsize=(7,7))\n",
    "plt.show()"
   ]
  },
  {
   "cell_type": "code",
   "execution_count": 19,
   "id": "f2e89276-7432-4e12-83b2-40458a0c2a5f",
   "metadata": {},
   "outputs": [
    {
     "name": "stdout",
     "output_type": "stream",
     "text": [
      "\u001b[1mRating Distribution\u001b[0m\n",
      "5.0 Rating: percentage overall \u001b[1m67.62\u001b[0m\n",
      "4.0 Rating: percentage overall \u001b[1m20.31\u001b[0m\n",
      "3.0 Rating: percentage overall \u001b[1m7.52\u001b[0m\n",
      "2.0 Rating: percentage overall \u001b[1m2.44\u001b[0m\n",
      "1.0 Rating: percentage overall \u001b[1m2.11\u001b[0m\n"
     ]
    }
   ],
   "source": [
    "# Percentage of reviewText rating of each value \n",
    "print(\"\\033[1mRating Distribution\\033[0m\")\n",
    "for rating_value, percentage in zip(df['overall'].value_counts().index, np.round((df['overall'].value_counts().values/len(df)*100),2) ):\n",
    "    print(f\"{rating_value} Rating: percentage overall \\033[1m{percentage}\\033[0m\")"
   ]
  },
  {
   "cell_type": "markdown",
   "id": "2d4eb022-2f9f-48a7-90bb-c0c4e52b1ebe",
   "metadata": {
    "scrolled": true
   },
   "source": [
    "##### Note \n",
    "- Based on the pie chart and analysis, ratings of 4 and 5 indicate a positive review, a rating of 3 is considered neutral, and ratings below 3 are classified as negative reviews.\n",
    "- Since the percentage of negative review and neutral is very small compare to the positive review, model will face some kind of imabalacing issues we can see it later."
   ]
  },
  {
   "cell_type": "code",
   "execution_count": 21,
   "id": "dd87267b-1d7c-457e-9fff-082d1b9f7c81",
   "metadata": {},
   "outputs": [],
   "source": [
    "# Adding two features ie, reviewYear and reviewMonth for analysis\n",
    "df['review_date'] = pd.to_datetime(df['reviewTime'])\n",
    "df['reviewYear'] = df['review_date'].dt.year\n",
    "df['reviewMonth'] = df['review_date'].dt.month"
   ]
  },
  {
   "cell_type": "code",
   "execution_count": 22,
   "id": "8838fbff-4fc8-4dc5-8492-21ec4da9bedd",
   "metadata": {},
   "outputs": [
    {
     "data": {
      "image/png": "[encoded data removed]",
      "text/plain": [
       "<Figure size 800x600 with 1 Axes>"
      ]
     },
     "metadata": {},
     "output_type": "display_data"
    }
   ],
   "source": [
    "# Rating of the company over the year\n",
    "plt.title(\"Rating over the year in the company\", color='blue')\n",
    "df.groupby(df['reviewYear'])['overall'].mean().plot(figsize=(8,6), marker='o')\n",
    "plt.grid(False)\n",
    "plt.show()"
   ]
  },
  {
   "cell_type": "code",
   "execution_count": 23,
   "id": "160e5a83-6adc-4831-b5cb-9fee103c5e8e",
   "metadata": {},
   "outputs": [
    {
     "data": {
      "text/plain": [
       "4.488743787155248"
      ]
     },
     "execution_count": 23,
     "metadata": {},
     "output_type": "execute_result"
    }
   ],
   "source": [
    "# Average rating of the company \n",
    "df['overall'].mean()"
   ]
  },
  {
   "cell_type": "markdown",
   "id": "8afbf0cc-ab53-4005-8bad-994d7ec9f0db",
   "metadata": {},
   "source": [
    "##### Note: \n",
    "- Average rating of the company is 4.48."
   ]
  },
  {
   "cell_type": "markdown",
   "id": "6bf247d4-7411-4099-83ee-d90f5453bcf9",
   "metadata": {},
   "source": [
    "#### REMOVING THE RECORED WITH MISSING VALUES"
   ]
  },
  {
   "cell_type": "code",
   "execution_count": 26,
   "id": "fb1e36d0-0df9-4ff8-a017-87a69a44b1d8",
   "metadata": {},
   "outputs": [],
   "source": [
    "# Removing the features where the review text is missing \n",
    "df = df[~df['reviewText'].isna()]"
   ]
  },
  {
   "cell_type": "code",
   "execution_count": 27,
   "id": "d42dd187-8905-4450-bf1a-bed34e68354b",
   "metadata": {},
   "outputs": [
    {
     "data": {
      "text/plain": [
       "(10254, 12)"
      ]
     },
     "execution_count": 27,
     "metadata": {},
     "output_type": "execute_result"
    }
   ],
   "source": [
    "# Checking the shape of the dataset after removing the missing values \n",
    "df.shape"
   ]
  },
  {
   "cell_type": "markdown",
   "id": "f2f3c4ec-7703-4a66-a8cf-34ac4687051d",
   "metadata": {
    "scrolled": true
   },
   "source": [
    "Note: \n",
    "- Reviewer Name does not contribute too much in sentimental analysis, so not removing the record with Nan reviewerName"
   ]
  },
  {
   "cell_type": "markdown",
   "id": "2dd08e67-e23c-4778-9f76-a0b749ea012b",
   "metadata": {},
   "source": [
    "#### LABEL THE REVIEW INTO POSTIVE, NEGATIVE AND NEUTRAL"
   ]
  },
  {
   "cell_type": "code",
   "execution_count": 30,
   "id": "420ad117-0936-4258-895a-49604126093f",
   "metadata": {},
   "outputs": [],
   "source": [
    "# Function for Labelling the review \n",
    "def Label_review(data):\n",
    "    if data['overall'] > 3.0:\n",
    "        return \"Positive\"\n",
    "    elif data['overall'] == 3.0:\n",
    "        return \"Neutral\"\n",
    "    else:\n",
    "        return \"Negative\"\n",
    "\n",
    "df['Label'] = df.apply(Label_review, axis=1)"
   ]
  },
  {
   "cell_type": "code",
   "execution_count": 31,
   "id": "ca7c30b8-1601-41fb-9e77-2f953d8b72a1",
   "metadata": {},
   "outputs": [
    {
     "data": {
      "text/plain": [
       "Label\n",
       "Positive    9015\n",
       "Neutral      772\n",
       "Negative     467\n",
       "Name: count, dtype: int64"
      ]
     },
     "execution_count": 31,
     "metadata": {},
     "output_type": "execute_result"
    }
   ],
   "source": [
    "# Checking the value counts of each Label \n",
    "df['Label'].value_counts()"
   ]
  },
  {
   "cell_type": "code",
   "execution_count": 32,
   "id": "5f572f34-385f-45eb-9f90-c97503adb146",
   "metadata": {},
   "outputs": [
    {
     "data": {
      "image/png": "[encoded data removed]",
      "text/plain": [
       "<Figure size 640x480 with 1 Axes>"
      ]
     },
     "metadata": {},
     "output_type": "display_data"
    }
   ],
   "source": [
    "# Define colors for labels\n",
    "color_map = {'Positive': 'green', 'Neutral': 'yellow', 'Negative': 'red'}\n",
    "plt.title(\"Sentiment Analysis Label\")\n",
    "df['Label'].value_counts().plot(kind='bar', color=[color_map[label] for label in df['Label'].value_counts().index])\n",
    "plt.show()"
   ]
  },
  {
   "cell_type": "markdown",
   "id": "2e724326-576f-475b-ae04-a443dc052c22",
   "metadata": {},
   "source": [
    "#### COMBINING THE SUMMARY AND REVIEW TEXT -> FINAL REVIEW "
   ]
  },
  {
   "cell_type": "code",
   "execution_count": 34,
   "id": "f4b2f023-3612-4efa-bd3a-4c3a2a95d463",
   "metadata": {},
   "outputs": [],
   "source": [
    "#### Combining the Summary and the reviewText \n",
    "df['final_review'] = df['summary'] + \" \" + df['reviewText']"
   ]
  },
  {
   "cell_type": "code",
   "execution_count": 35,
   "id": "2a03cb3c-d674-4bda-8ab4-aa3203e52ab1",
   "metadata": {},
   "outputs": [
    {
     "data": {
      "text/html": [
       "<div>\n",
       "<style scoped>\n",
       "    .dataframe tbody tr th:only-of-type {\n",
       "        vertical-align: middle;\n",
       "    }\n",
       "\n",
       "    .dataframe tbody tr th {\n",
       "        vertical-align: top;\n",
       "    }\n",
       "\n",
       "    .dataframe thead th {\n",
       "        text-align: right;\n",
       "    }\n",
       "</style>\n",
       "<table border=\"1\" class=\"dataframe\">\n",
       "  <thead>\n",
       "    <tr style=\"text-align: right;\">\n",
       "      <th></th>\n",
       "      <th>reviewerID</th>\n",
       "      <th>asin</th>\n",
       "      <th>reviewerName</th>\n",
       "      <th>helpful</th>\n",
       "      <th>reviewText</th>\n",
       "      <th>overall</th>\n",
       "      <th>summary</th>\n",
       "      <th>unixReviewTime</th>\n",
       "      <th>reviewTime</th>\n",
       "      <th>review_date</th>\n",
       "      <th>reviewYear</th>\n",
       "      <th>reviewMonth</th>\n",
       "      <th>Label</th>\n",
       "      <th>final_review</th>\n",
       "    </tr>\n",
       "  </thead>\n",
       "  <tbody>\n",
       "    <tr>\n",
       "      <th>0</th>\n",
       "      <td>A2IBPI20UZIR0U</td>\n",
       "      <td>1384719342</td>\n",
       "      <td>cassandra tu \"Yeah, well, that's just like, u...</td>\n",
       "      <td>[0, 0]</td>\n",
       "      <td>Not much to write about here, but it does exac...</td>\n",
       "      <td>5.0</td>\n",
       "      <td>good</td>\n",
       "      <td>1393545600</td>\n",
       "      <td>02 28, 2014</td>\n",
       "      <td>2014-02-28</td>\n",
       "      <td>2014</td>\n",
       "      <td>2</td>\n",
       "      <td>Positive</td>\n",
       "      <td>good Not much to write about here, but it does...</td>\n",
       "    </tr>\n",
       "    <tr>\n",
       "      <th>1</th>\n",
       "      <td>A14VAT5EAX3D9S</td>\n",
       "      <td>1384719342</td>\n",
       "      <td>Jake</td>\n",
       "      <td>[13, 14]</td>\n",
       "      <td>The product does exactly as it should and is q...</td>\n",
       "      <td>5.0</td>\n",
       "      <td>Jake</td>\n",
       "      <td>1363392000</td>\n",
       "      <td>03 16, 2013</td>\n",
       "      <td>2013-03-16</td>\n",
       "      <td>2013</td>\n",
       "      <td>3</td>\n",
       "      <td>Positive</td>\n",
       "      <td>Jake The product does exactly as it should and...</td>\n",
       "    </tr>\n",
       "    <tr>\n",
       "      <th>2</th>\n",
       "      <td>A195EZSQDW3E21</td>\n",
       "      <td>1384719342</td>\n",
       "      <td>Rick Bennette \"Rick Bennette\"</td>\n",
       "      <td>[1, 1]</td>\n",
       "      <td>The primary job of this device is to block the...</td>\n",
       "      <td>5.0</td>\n",
       "      <td>It Does The Job Well</td>\n",
       "      <td>1377648000</td>\n",
       "      <td>08 28, 2013</td>\n",
       "      <td>2013-08-28</td>\n",
       "      <td>2013</td>\n",
       "      <td>8</td>\n",
       "      <td>Positive</td>\n",
       "      <td>It Does The Job Well The primary job of this d...</td>\n",
       "    </tr>\n",
       "    <tr>\n",
       "      <th>3</th>\n",
       "      <td>A2C00NNG1ZQQG2</td>\n",
       "      <td>1384719342</td>\n",
       "      <td>RustyBill \"Sunday Rocker\"</td>\n",
       "      <td>[0, 0]</td>\n",
       "      <td>Nice windscreen protects my MXL mic and preven...</td>\n",
       "      <td>5.0</td>\n",
       "      <td>GOOD WINDSCREEN FOR THE MONEY</td>\n",
       "      <td>1392336000</td>\n",
       "      <td>02 14, 2014</td>\n",
       "      <td>2014-02-14</td>\n",
       "      <td>2014</td>\n",
       "      <td>2</td>\n",
       "      <td>Positive</td>\n",
       "      <td>GOOD WINDSCREEN FOR THE MONEY Nice windscreen ...</td>\n",
       "    </tr>\n",
       "    <tr>\n",
       "      <th>4</th>\n",
       "      <td>A94QU4C90B1AX</td>\n",
       "      <td>1384719342</td>\n",
       "      <td>SEAN MASLANKA</td>\n",
       "      <td>[0, 0]</td>\n",
       "      <td>This pop filter is great. It looks and perform...</td>\n",
       "      <td>5.0</td>\n",
       "      <td>No more pops when I record my vocals.</td>\n",
       "      <td>1392940800</td>\n",
       "      <td>02 21, 2014</td>\n",
       "      <td>2014-02-21</td>\n",
       "      <td>2014</td>\n",
       "      <td>2</td>\n",
       "      <td>Positive</td>\n",
       "      <td>No more pops when I record my vocals. This pop...</td>\n",
       "    </tr>\n",
       "  </tbody>\n",
       "</table>\n",
       "</div>"
      ],
      "text/plain": [
       "       reviewerID        asin  \\\n",
       "0  A2IBPI20UZIR0U  1384719342   \n",
       "1  A14VAT5EAX3D9S  1384719342   \n",
       "2  A195EZSQDW3E21  1384719342   \n",
       "3  A2C00NNG1ZQQG2  1384719342   \n",
       "4   A94QU4C90B1AX  1384719342   \n",
       "\n",
       "                                       reviewerName   helpful  \\\n",
       "0  cassandra tu \"Yeah, well, that's just like, u...    [0, 0]   \n",
       "1                                              Jake  [13, 14]   \n",
       "2                     Rick Bennette \"Rick Bennette\"    [1, 1]   \n",
       "3                         RustyBill \"Sunday Rocker\"    [0, 0]   \n",
       "4                                     SEAN MASLANKA    [0, 0]   \n",
       "\n",
       "                                          reviewText  overall  \\\n",
       "0  Not much to write about here, but it does exac...      5.0   \n",
       "1  The product does exactly as it should and is q...      5.0   \n",
       "2  The primary job of this device is to block the...      5.0   \n",
       "3  Nice windscreen protects my MXL mic and preven...      5.0   \n",
       "4  This pop filter is great. It looks and perform...      5.0   \n",
       "\n",
       "                                 summary  unixReviewTime   reviewTime  \\\n",
       "0                                   good      1393545600  02 28, 2014   \n",
       "1                                   Jake      1363392000  03 16, 2013   \n",
       "2                   It Does The Job Well      1377648000  08 28, 2013   \n",
       "3          GOOD WINDSCREEN FOR THE MONEY      1392336000  02 14, 2014   \n",
       "4  No more pops when I record my vocals.      1392940800  02 21, 2014   \n",
       "\n",
       "  review_date  reviewYear  reviewMonth     Label  \\\n",
       "0  2014-02-28        2014            2  Positive   \n",
       "1  2013-03-16        2013            3  Positive   \n",
       "2  2013-08-28        2013            8  Positive   \n",
       "3  2014-02-14        2014            2  Positive   \n",
       "4  2014-02-21        2014            2  Positive   \n",
       "\n",
       "                                        final_review  \n",
       "0  good Not much to write about here, but it does...  \n",
       "1  Jake The product does exactly as it should and...  \n",
       "2  It Does The Job Well The primary job of this d...  \n",
       "3  GOOD WINDSCREEN FOR THE MONEY Nice windscreen ...  \n",
       "4  No more pops when I record my vocals. This pop...  "
      ]
     },
     "execution_count": 35,
     "metadata": {},
     "output_type": "execute_result"
    }
   ],
   "source": [
    "# sample record \n",
    "df.head(5)"
   ]
  },
  {
   "cell_type": "markdown",
   "id": "6cb5cc0f-be06-4526-b832-9509e8bd293a",
   "metadata": {},
   "source": [
    "### TEXT CLEANING"
   ]
  },
  {
   "cell_type": "code",
   "execution_count": 37,
   "id": "82177cdf-fc0f-4b68-bab2-d3bae514e189",
   "metadata": {},
   "outputs": [
    {
     "name": "stdout",
     "output_type": "stream",
     "text": [
      "Record 40: great value Nice solid cables, with excellent support at the ends.  Should last a lifetime of usage no problem and just what I needed to connect my tube preamp. \n",
      "\n",
      "\n",
      "Record 41: Five Stars Good quality cable and sounds very good \n",
      "\n",
      "\n",
      "Record 42: Pretty cheap cable that has lasted so far Zero issues with this cable so far.  It feels fairly cheap and light weight but it has survived for months of plugging in, unplugging, and packing between practice spaces.I'll update this review if/when it breaks. \n",
      "\n",
      "\n",
      "Record 43: very nice cable Realtively inexpensive patch cable for electric guitar.I have had it for a few months and so far it has held up pretty well \n",
      "\n",
      "\n",
      "Record 44: Nice guitar cable, even better price I bought this because I wanted a cheap replacement cable for one that had a short. I'm pleasantly surprised with this cable. It's decent sound and decent build quality, for a good price. \n",
      "\n",
      "\n",
      "Record 45: Does What You Want This is a very nice cable for the price. I already bent one end of it though, fortunately it still works fine. Inside the phono connector the wires are covered by white shrink plastic. Haven't noticed any hum or crackles. For sure a good buy. \n",
      "\n",
      "\n",
      "Record 46: flexible, soft rubber is great. Cheap and good texture rubber that does not get stiff.  Only time will tell how well the soldering is.  Sounds fine to me. \n",
      "\n",
      "\n",
      "Record 47: Works wonderfully, no noise Seems sturdy enough, and no noise issues, so I'm pretty much satified with it; it doesn't leave the house so I'm not asking it to handle a lot, but with reasonable care it should last a while. \n",
      "\n",
      "\n",
      "Record 48: excellent I'm not a professional, but have been playing for many, many years.  This is the best cord I've ever had, though I'm sure Eric Clapton has something better. \n",
      "\n",
      "\n",
      "Record 49: Great Guitar Cable, Good Value - Highly Recommended This Hosa Cable is very well made, with good quality connectors and a nice long length. My son is expanding his collection of amps and effects pedals so needed additional cables to get everything connected. This 25' cable gives him flexibility to move around and it is sturdy enough that it can take being stepped on and pulled around.The cable works well and is a good value for a decent quality cable.Highly Recommended!CFH \n",
      "\n",
      "\n"
     ]
    }
   ],
   "source": [
    "# Lets analyse the review to clean \n",
    "for i in range(40,50):\n",
    "    print(f\"Record {i}: {df[\"final_review\"][i]} \\n\\n\")"
   ]
  },
  {
   "cell_type": "markdown",
   "id": "95789a88-4934-465f-aad0-c6448c646431",
   "metadata": {},
   "source": [
    "Note : \n",
    "- Convert the text in to lower case.\n",
    "- Convert all the numbers to the text\n",
    "- Remove comma,fullstop,hyphen,division including all the punchuations\n",
    "- Removing the new lines\n",
    "- Remove the links in the text which is not required "
   ]
  },
  {
   "cell_type": "code",
   "execution_count": 39,
   "id": "0f8bee97-3c4b-47cc-8cfb-7e3fa795d50b",
   "metadata": {},
   "outputs": [
    {
     "data": {
      "text/plain": [
       "'i am happy'"
      ]
     },
     "execution_count": 39,
     "metadata": {},
     "output_type": "execute_result"
    }
   ],
   "source": [
    "# Step 1: Converting to the lower case \n",
    "# eg: text = I am Happy \n",
    "text = \"I am Happy\"\n",
    "text.lower()"
   ]
  },
  {
   "cell_type": "code",
   "execution_count": 40,
   "id": "01076d8b-cfa6-47ab-8bb7-671e7539647e",
   "metadata": {},
   "outputs": [
    {
     "name": "stdout",
     "output_type": "stream",
     "text": [
      "Clean text: Hello world Lets remove all punctuations\n"
     ]
    }
   ],
   "source": [
    "# Step 2: Remove the punchuation marks \n",
    "def remove_punctuation(text):\n",
    "    return text.translate(str.maketrans('', '', string.punctuation))\n",
    "\n",
    "# Example usage\n",
    "text = \"Hello, world! Let's remove: all punctuations.\"\n",
    "clean_text = remove_punctuation(text)\n",
    "print(f\"Clean text: {clean_text}\")"
   ]
  },
  {
   "cell_type": "code",
   "execution_count": 41,
   "id": "86009368-3657-4d66-83ab-fcfb12fcd92f",
   "metadata": {},
   "outputs": [
    {
     "data": {
      "text/plain": [
       "'Text with numbers '"
      ]
     },
     "execution_count": 41,
     "metadata": {},
     "output_type": "execute_result"
    }
   ],
   "source": [
    "# Step 3: removing numbers in the text \n",
    "def remove_numbers(text):\n",
    "    return text.translate(str.maketrans('', '', '0123456789')) \n",
    "\n",
    "text = \"Text1 with numbe5rs 456783\"\n",
    "remove_numbers(text)"
   ]
  },
  {
   "cell_type": "code",
   "execution_count": 42,
   "id": "3f41d3ba-39b2-4d08-a0f4-774a1868cf2b",
   "metadata": {},
   "outputs": [
    {
     "name": "stdout",
     "output_type": "stream",
     "text": [
      "hello world This is sample text\n"
     ]
    }
   ],
   "source": [
    "# Step 4: Deleting newlines in the text \n",
    "Text = '''hello \n",
    "world \n",
    "This \n",
    "is \n",
    "sample \n",
    "text'''\n",
    "Text = re.sub('\\n', '', Text)\n",
    "print(Text)"
   ]
  },
  {
   "cell_type": "code",
   "execution_count": 43,
   "id": "2f542982-7226-4bc1-bc24-354fd83569bd",
   "metadata": {},
   "outputs": [
    {
     "name": "stdout",
     "output_type": "stream",
     "text": [
      " This is a google link \n"
     ]
    }
   ],
   "source": [
    "# Step 5: Removing the links in the text \n",
    "Text = \"https://google.com This is a google link \"\n",
    "Text = re.sub('https?://\\S+|www\\.\\S+', '', Text)\n",
    "print(Text)"
   ]
  },
  {
   "cell_type": "code",
   "execution_count": 44,
   "id": "80b49fc5-84c2-4f98-88c8-7789da9c2d41",
   "metadata": {},
   "outputs": [],
   "source": [
    "# function for performing all of these actions \n",
    "def text_cleaning(text):\n",
    "    # Step1 : Converting the text to lower case \n",
    "    text = text.lower()\n",
    "    # Step2 : Removing all the punctuation marks in the string \n",
    "    text = text.translate(str.maketrans('', '', string.punctuation))\n",
    "    # Step3: Removing all the numbers \n",
    "    text = text.translate(str.maketrans('', '', '0123456789')) \n",
    "    # step4: Removing the new lines \n",
    "    text = re.sub('\\n', '', text)\n",
    "    # step5: Removing all the links  in text\n",
    "    text = re.sub('https?://\\S+|www\\.\\S+', '', text)\n",
    "\n",
    "    return text"
   ]
  },
  {
   "cell_type": "code",
   "execution_count": 45,
   "id": "32b5e4ba-5a0f-47ba-be18-d68d5cf61047",
   "metadata": {},
   "outputs": [],
   "source": [
    "# Applyting the function to each of the text\n",
    "df['clean_text'] = df['final_review'].apply(lambda text:text_cleaning(text))"
   ]
  },
  {
   "cell_type": "code",
   "execution_count": 46,
   "id": "32409cdd-5822-4027-a58a-3c3e9f7483fc",
   "metadata": {},
   "outputs": [
    {
     "name": "stdout",
     "output_type": "stream",
     "text": [
      "\n",
      "Record 5: \n",
      "\n",
      "\u001b[1mOrginal text\u001b[0m: The Best Cable So good that I bought another one.  Love the heavy cord and gold connectors.  Bass sounds great.  I just learned last night how to coil them up.  I guess I should read instructions more carefully.  But no harm done, still works great!,\n",
      "\n",
      "\u001b[1mClean text\u001b[0m: the best cable so good that i bought another one  love the heavy cord and gold connectors  bass sounds great  i just learned last night how to coil them up  i guess i should read instructions more carefully  but no harm done still works great\n",
      "\n",
      "Record 6: \n",
      "\n",
      "\u001b[1mOrginal text\u001b[0m: Monster Standard 100 - 21' Instrument Cable I have used monster cables for years, and with good reason. The lifetime warranty is worth the price alone. Simple fact: cables break, but getting to replace them at no cost is where it's at.,\n",
      "\n",
      "\u001b[1mClean text\u001b[0m: monster standard    instrument cable i have used monster cables for years and with good reason the lifetime warranty is worth the price alone simple fact cables break but getting to replace them at no cost is where its at\n",
      "\n",
      "Record 7: \n",
      "\n",
      "\u001b[1mOrginal text\u001b[0m: Didn't fit my 1996 Fender Strat... I now use this cable to run from the output of my pedal chain to the input of my Fender Amp. After I bought Monster Cable to hook up my pedal board I thought I would try another one and update my guitar. I had been using a high end Planet Waves cable that I bought in the 1980's... Once I found out the input jacks on the new Monster cable didn't fit into the Fender Strat jack I was a little disappointed... I didn't return it and as stated I use it for the output on the pedal board. Save your money... I went back to my Planet Waves Cable...I payed $30.00 back in the eighties for the Planet Waves which now comes in at around $50.00. What I'm getting at is you get what you pay for. I thought Waves was a lot of money back in the day...but I haven't bought a guitar cable since this one...20 plus years and still working...Planet Waves wins.,\n",
      "\n",
      "\u001b[1mClean text\u001b[0m: didnt fit my  fender strat i now use this cable to run from the output of my pedal chain to the input of my fender amp after i bought monster cable to hook up my pedal board i thought i would try another one and update my guitar i had been using a high end planet waves cable that i bought in the s once i found out the input jacks on the new monster cable didnt fit into the fender strat jack i was a little disappointed i didnt return it and as stated i use it for the output on the pedal board save your money i went back to my planet waves cablei payed  back in the eighties for the planet waves which now comes in at around  what im getting at is you get what you pay for i thought waves was a lot of money back in the daybut i havent bought a guitar cable since this one plus years and still workingplanet waves wins\n",
      "\n",
      "Record 8: \n",
      "\n",
      "\u001b[1mOrginal text\u001b[0m: Great cable Perfect for my Epiphone Sheraton II.  Monster cables are well constructed.  I have several and never had any problems with any of them over the years.  Got this one because I wanted the 90 degree plug.,\n",
      "\n",
      "\u001b[1mClean text\u001b[0m: great cable perfect for my epiphone sheraton ii  monster cables are well constructed  i have several and never had any problems with any of them over the years  got this one because i wanted the  degree plug\n",
      "\n",
      "Record 9: \n",
      "\n",
      "\u001b[1mOrginal text\u001b[0m: Best Instrument Cables On The Market Monster makes the best cables and a lifetime warranty doesnt hurt either. This isnt their top of the line series but it works great with my bass guitar rig and has for some time. You cant go wrong with Monster Cables.,\n",
      "\n",
      "\u001b[1mClean text\u001b[0m: best instrument cables on the market monster makes the best cables and a lifetime warranty doesnt hurt either this isnt their top of the line series but it works great with my bass guitar rig and has for some time you cant go wrong with monster cables\n"
     ]
    }
   ],
   "source": [
    "# Difference between Orginal text and clean text \n",
    "for i in range(5,10):\n",
    "    print(f\"\\nRecord {i}: \\n\\n\\033[1mOrginal text\\033[0m: {df[\"final_review\"][i]},\\n\\n\\033[1mClean text\\033[0m: {df[\"clean_text\"][i]}\")"
   ]
  },
  {
   "cell_type": "markdown",
   "id": "82af250d-05de-40fa-bfd7-100bf8c2ea85",
   "metadata": {},
   "source": [
    "- text is now clean and ready for the next preprcessing"
   ]
  },
  {
   "cell_type": "markdown",
   "id": "a8b77fda-9036-40ec-90c3-e906020edeeb",
   "metadata": {},
   "source": [
    "### TEXT PREPROCESSING\n",
    "1. Word Tokenize : Converting the sentence in to list of words.\n",
    "2. Applying stopwords : to remove the words which lacks independent meaning.\n",
    "3. Applying Word lemmatizer: to get root of words\n",
    "4. Joining back list to string "
   ]
  },
  {
   "cell_type": "code",
   "execution_count": 49,
   "id": "984c27b4-9c76-4704-be3c-fe2f1df9bc00",
   "metadata": {},
   "outputs": [
    {
     "name": "stdout",
     "output_type": "stream",
     "text": [
      "['This', 'is', 'my', 'cat']\n"
     ]
    }
   ],
   "source": [
    "# Step1(Word Tokenizer): Converting the sentence in to list of words \n",
    "text = \"This is my cat\"\n",
    "text = word_tokenize(text)\n",
    "print(text)"
   ]
  },
  {
   "cell_type": "code",
   "execution_count": 50,
   "id": "5ca4e431-19b8-4530-b718-29d9c1d9311f",
   "metadata": {},
   "outputs": [
    {
     "name": "stdout",
     "output_type": "stream",
     "text": [
      "STOP WORDS IN ENGLISH: \n",
      "i, me, my, myself, we, our, ours, ourselves, you, you're, you've, you'll, you'd, your, yours, yourself, yourselves, he, him, his, himself, she, she's, her, hers, herself, it, it's, its, itself, they, them, their, theirs, themselves, what, which, who, whom, this, that, that'll, these, those, am, is, are, was, were, be, been, being, have, has, had, having, do, does, did, doing, a, an, the, and, but, if, or, because, as, until, while, of, at, by, for, with, about, against, between, into, through, during, before, after, above, below, to, from, up, down, in, out, on, off, over, under, again, further, then, once, here, there, when, where, why, how, all, any, both, each, few, more, most, other, some, such, no, nor, not, only, own, same, so, than, too, very, s, t, can, will, just, don, don't, should, should've, now, d, ll, m, o, re, ve, y, ain, aren, aren't, couldn, couldn't, didn, didn't, doesn, doesn't, hadn, hadn't, hasn, hasn't, haven, haven't, isn, isn't, ma, mightn, mightn't, mustn, mustn't, needn, needn't, shan, shan't, shouldn, shouldn't, wasn, wasn't, weren, weren't, won, won't, wouldn, wouldn't, "
     ]
    }
   ],
   "source": [
    "# step2(Applying stop words)\n",
    "print(\"STOP WORDS IN ENGLISH: \")\n",
    "for word in stopwords.words('english'):\n",
    "    print(f\"{word}\", end=\", \")"
   ]
  },
  {
   "cell_type": "code",
   "execution_count": 51,
   "id": "b109134b-cdd7-4bed-83a3-fa1680016c1d",
   "metadata": {},
   "outputs": [
    {
     "name": "stdout",
     "output_type": "stream",
     "text": [
      "['This', 'cat']\n"
     ]
    }
   ],
   "source": [
    "# Removing the stop words from the above text\n",
    "text = [word for word in text if word not in stopwords.words('english')]\n",
    "print(text)"
   ]
  },
  {
   "cell_type": "code",
   "execution_count": 52,
   "id": "7d372b92-6132-4795-808e-5be23841cad0",
   "metadata": {},
   "outputs": [
    {
     "name": "stdout",
     "output_type": "stream",
     "text": [
      "price\n"
     ]
    }
   ],
   "source": [
    "# Step3(Applying Lemmatizer): Applying lematizer\n",
    "lemmatizer = WordNetLemmatizer()\n",
    "print(lemmatizer.lemmatize(\"pricing\", pos=\"v\")) # Get the root word "
   ]
  },
  {
   "cell_type": "code",
   "execution_count": 53,
   "id": "dc07f452-9857-4181-89cf-7f71066f9844",
   "metadata": {},
   "outputs": [],
   "source": [
    "# Funtion for preprocessing the text\n",
    "def preprocess_text(text):\n",
    "    # Tokenization\n",
    "    tokens = word_tokenize(text)  # Convert to lowercase and tokenize\n",
    "\n",
    "    # Remove stopwords\n",
    "    Stopwords = set(stopwords.words('english')) - set([\"not\"])\n",
    "    filtered_tokens = [word for word in tokens if word not in Stopwords]\n",
    "\n",
    "    # Lemmatization\n",
    "    lemmatizer = WordNetLemmatizer()\n",
    "    lemmatized_tokens = [lemmatizer.lemmatize(word, pos='v') for word in filtered_tokens]\n",
    "\n",
    "    return \" \".join(lemmatized_tokens)"
   ]
  },
  {
   "cell_type": "code",
   "execution_count": 54,
   "id": "556b829b-3ec2-4175-854d-5765631e50d1",
   "metadata": {},
   "outputs": [
    {
     "data": {
      "text/plain": [
       "'good not much write exactly suppose filter pop sound recordings much crisp one lowest price pop filter amazon might well buy honestly work despite price'"
      ]
     },
     "execution_count": 54,
     "metadata": {},
     "output_type": "execute_result"
    }
   ],
   "source": [
    "# Preprocess the text \n",
    "preprocess_text(df['clean_text'][0])"
   ]
  },
  {
   "cell_type": "code",
   "execution_count": 55,
   "id": "fb9d9048-832b-44c3-9bfa-f58e2a032711",
   "metadata": {},
   "outputs": [
    {
     "data": {
      "text/plain": [
       "'good not much to write about here but it does exactly what its supposed to filters out the pop sounds now my recordings are much more crisp it is one of the lowest prices pop filters on amazon so might as well buy it they honestly work the same despite their pricing'"
      ]
     },
     "execution_count": 55,
     "metadata": {},
     "output_type": "execute_result"
    }
   ],
   "source": [
    "df['clean_text'][0]"
   ]
  },
  {
   "cell_type": "code",
   "execution_count": 56,
   "id": "0a6688a2-d4cb-4f52-96d5-09582ab0212e",
   "metadata": {},
   "outputs": [],
   "source": [
    "# Applying the preprocessed text\n",
    "df['preprocessed_text'] = df['clean_text'].apply(lambda text:preprocess_text(text))"
   ]
  },
  {
   "cell_type": "code",
   "execution_count": 57,
   "id": "bc740ac5-c3fb-4b0b-9aab-b4956de9f856",
   "metadata": {},
   "outputs": [
    {
     "name": "stdout",
     "output_type": "stream",
     "text": [
      "\n",
      "Record 0: \n",
      "\n",
      "\u001b[1mClean text\u001b[0m: good not much to write about here but it does exactly what its supposed to filters out the pop sounds now my recordings are much more crisp it is one of the lowest prices pop filters on amazon so might as well buy it they honestly work the same despite their pricing,\n",
      "\n",
      "\u001b[1mPreprocessed text\u001b[0m: good not much write exactly suppose filter pop sound recordings much crisp one lowest price pop filter amazon might well buy honestly work despite price\n",
      "\n",
      "Record 1: \n",
      "\n",
      "\u001b[1mClean text\u001b[0m: jake the product does exactly as it should and is quite affordablei did not realized it was double screened until it arrived so it was even better than i had expectedas an added bonus one of the screens carries a small hint of the smell of an old grape candy i used to buy so for reminiscents sake i cannot stop putting the pop filter next to my nose and smelling it after recording dif you needed a pop filter this will work just as well as the expensive ones and it may even come with a pleasing aroma like mine didbuy this product ,\n",
      "\n",
      "\u001b[1mPreprocessed text\u001b[0m: jake product exactly quite affordablei not realize double screen arrive even better expectedas add bonus one screen carry small hint smell old grape candy use buy reminiscents sake not stop put pop filter next nose smell record dif need pop filter work well expensive ones may even come please aroma like mine didbuy product\n",
      "\n",
      "Record 2: \n",
      "\n",
      "\u001b[1mClean text\u001b[0m: it does the job well the primary job of this device is to block the breath that would otherwise produce a popping sound while allowing your voice to pass through with no noticeable reduction of volume or high frequencies the double cloth filter blocks the pops and lets the voice through with no coloration the metal clamp mount attaches to the mike stand secure enough to keep it attached the goose neck needs a little coaxing to stay where you put it,\n",
      "\n",
      "\u001b[1mPreprocessed text\u001b[0m: job well primary job device block breath would otherwise produce pop sound allow voice pass noticeable reduction volume high frequencies double cloth filter block pop let voice coloration metal clamp mount attach mike stand secure enough keep attach goose neck need little coax stay put\n",
      "\n",
      "Record 3: \n",
      "\n",
      "\u001b[1mClean text\u001b[0m: good windscreen for the money nice windscreen protects my mxl mic and prevents pops only thing is that the gooseneck is only marginally able to hold the screen in position and requires careful positioning of the clamp to avoid sagging,\n",
      "\n",
      "\u001b[1mPreprocessed text\u001b[0m: good windscreen money nice windscreen protect mxl mic prevent pop thing gooseneck marginally able hold screen position require careful position clamp avoid sag\n",
      "\n",
      "Record 4: \n",
      "\n",
      "\u001b[1mClean text\u001b[0m: no more pops when i record my vocals this pop filter is great it looks and performs like a studio filter if youre recording vocals this will eliminate the pops that gets recorded when you sing,\n",
      "\n",
      "\u001b[1mPreprocessed text\u001b[0m: pop record vocals pop filter great look perform like studio filter youre record vocals eliminate pop get record sing\n"
     ]
    }
   ],
   "source": [
    "# Difference between Orginal text and clean text \n",
    "for i in range(5):\n",
    "    print(f\"\\nRecord {i}: \\n\\n\\033[1mClean text\\033[0m: {df[\"clean_text\"][i]},\\n\\n\\033[1mPreprocessed text\\033[0m: {df[\"preprocessed_text\"][i]}\")"
   ]
  },
  {
   "cell_type": "markdown",
   "id": "fa1014aa-ce54-43df-ba07-3b739bdfe035",
   "metadata": {},
   "source": [
    "### LABEL THE FEATURES "
   ]
  },
  {
   "cell_type": "code",
   "execution_count": 59,
   "id": "8d769e94-d062-441f-93f9-860b85521a9e",
   "metadata": {},
   "outputs": [],
   "source": [
    "# Encoding the target feature \n",
    "dict_map = {\"Positive\":1, \"Negative\":0, \"Neutral\":2}\n",
    "df['Label'] = df['Label'].map(dict_map)"
   ]
  },
  {
   "cell_type": "code",
   "execution_count": 60,
   "id": "6cf0d90e-eb2b-475f-9694-79a746c9217c",
   "metadata": {},
   "outputs": [
    {
     "data": {
      "text/plain": [
       "Label\n",
       "1    9015\n",
       "2     772\n",
       "0     467\n",
       "Name: count, dtype: int64"
      ]
     },
     "execution_count": 60,
     "metadata": {},
     "output_type": "execute_result"
    }
   ],
   "source": [
    "df['Label'].value_counts()"
   ]
  },
  {
   "cell_type": "markdown",
   "id": "4f8e754c-ccc9-4cb6-8f74-7b465fa0935f",
   "metadata": {},
   "source": [
    "### APPLYING TF-IDF VECTORIZATION: "
   ]
  },
  {
   "cell_type": "code",
   "execution_count": 62,
   "id": "4702c2ad-4743-4563-a897-d4eca75c1f19",
   "metadata": {},
   "outputs": [],
   "source": [
    "# Apply TF-IDF Vectorization with 2-grams (bigrams)\n",
    "vectorizer = TfidfVectorizer(ngram_range=(2, 2), max_features = 5000)  # Using bigrams\n",
    "X = vectorizer.fit_transform(df['preprocessed_text'])"
   ]
  },
  {
   "cell_type": "code",
   "execution_count": 223,
   "id": "d7eff27f-369b-4488-84b9-fb8557aa9e33",
   "metadata": {},
   "outputs": [],
   "source": [
    "# save this model as pickle \n",
    "with open(\"tfidf_vectorizer.pkl\", \"wb\") as f:\n",
    "    pickle.dump(vectorizer, f)"
   ]
  },
  {
   "cell_type": "code",
   "execution_count": 63,
   "id": "4f3aba40-7815-43ea-95b1-401c1a9bca37",
   "metadata": {},
   "outputs": [
    {
     "data": {
      "text/plain": [
       "(10254, 5000)"
      ]
     },
     "execution_count": 63,
     "metadata": {},
     "output_type": "execute_result"
    }
   ],
   "source": [
    "# shape of X after applying TF-IDF\n",
    "X.shape"
   ]
  },
  {
   "cell_type": "markdown",
   "id": "5b58f93f-bc81-47ac-8a43-c3e42fc3444b",
   "metadata": {
    "scrolled": true
   },
   "source": [
    "- Labelling is done correctly"
   ]
  },
  {
   "cell_type": "code",
   "execution_count": 65,
   "id": "57811f08-7594-45e4-80f1-706743a518c2",
   "metadata": {},
   "outputs": [],
   "source": [
    "# Labels \n",
    "y = df['Label']"
   ]
  },
  {
   "cell_type": "markdown",
   "id": "7389629f-cb31-443a-80d9-c1fc4e05447d",
   "metadata": {},
   "source": [
    "### BALACING THE DATASET"
   ]
  },
  {
   "cell_type": "code",
   "execution_count": 67,
   "id": "f10c35a1-58f8-47df-96c4-87394bd110fc",
   "metadata": {},
   "outputs": [],
   "source": [
    "Balancer = SMOTE(random_state = 42)\n",
    "X_final, y_final = Balancer.fit_resample(X, y)"
   ]
  },
  {
   "cell_type": "code",
   "execution_count": 68,
   "id": "4c728cb0-09cc-4318-b305-292a2bda2b4d",
   "metadata": {},
   "outputs": [
    {
     "data": {
      "text/plain": [
       "Label\n",
       "1    9015\n",
       "2    9015\n",
       "0    9015\n",
       "Name: count, dtype: int64"
      ]
     },
     "execution_count": 68,
     "metadata": {},
     "output_type": "execute_result"
    }
   ],
   "source": [
    "y_final.value_counts()"
   ]
  },
  {
   "cell_type": "markdown",
   "id": "609ddf9e-a3e0-446d-87dc-f12dd6f635f6",
   "metadata": {},
   "source": [
    "### TRAIN TEST SPLIT"
   ]
  },
  {
   "cell_type": "code",
   "execution_count": 70,
   "id": "d1154b92-b9f8-4fbd-8e02-09c909955cb3",
   "metadata": {},
   "outputs": [],
   "source": [
    "# Split the data into train and test sets\n",
    "X_train, X_test, y_train, y_test = train_test_split(X_final, y_final, test_size=0.25, random_state=42)"
   ]
  },
  {
   "cell_type": "code",
   "execution_count": 71,
   "id": "8d3e56b3-a172-47d4-a296-c3893439dcf0",
   "metadata": {},
   "outputs": [
    {
     "data": {
      "text/plain": [
       "((20283, 5000), (6762, 5000), (20283,), (6762,))"
      ]
     },
     "execution_count": 71,
     "metadata": {},
     "output_type": "execute_result"
    }
   ],
   "source": [
    "X_train.shape, X_test.shape, y_train.shape, y_test.shape"
   ]
  },
  {
   "cell_type": "markdown",
   "id": "47cdb281-7548-4c97-adb8-48185f0798b0",
   "metadata": {},
   "source": [
    "### SPOT CHECKING MODELS "
   ]
  },
  {
   "cell_type": "code",
   "execution_count": 73,
   "id": "605e57d1-2ea4-4709-9192-5e3d9bcf9e6c",
   "metadata": {},
   "outputs": [],
   "source": [
    "# Initialize the models\n",
    "models = {\n",
    "    \"Logistic Regression\": LogisticRegression(),\n",
    "    \"SVM\": SVC(),\n",
    "    \"Naive Bayes\": MultinomialNB(),\n",
    "    \"Decision Tree\": DecisionTreeClassifier(),\n",
    "    \"Random Forest\": RandomForestClassifier(),\n",
    "    \"KNN\": KNeighborsClassifier()\n",
    "}"
   ]
  },
  {
   "cell_type": "code",
   "execution_count": 74,
   "id": "7932ba1c-5e5d-4808-b034-f125dbd9f377",
   "metadata": {},
   "outputs": [],
   "source": [
    "# Store results for plotting\n",
    "results = []\n",
    "\n",
    "# Train models and evaluate\n",
    "for model_name, model in models.items():\n",
    "    # Train the model\n",
    "    model.fit(X_train, y_train)\n",
    "\n",
    "    # Predict on train and test sets\n",
    "    y_train_pred = model.predict(X_train)\n",
    "    y_test_pred = model.predict(X_test)\n",
    "\n",
    "    # Calculate accuracy for train and test sets\n",
    "    train_accuracy = accuracy_score(y_train, y_train_pred)\n",
    "    test_accuracy = accuracy_score(y_test, y_test_pred)\n",
    "    \n",
    "    # Store the results\n",
    "    results.append({\n",
    "        \"Model\": model_name,\n",
    "        \"Train Accuracy\": train_accuracy,\n",
    "        \"Test Accuracy\": test_accuracy,\n",
    "    })"
   ]
  },
  {
   "cell_type": "code",
   "execution_count": 75,
   "id": "f81d28ff-f794-458d-8d1e-694158672fec",
   "metadata": {},
   "outputs": [
    {
     "name": "stdout",
     "output_type": "stream",
     "text": [
      "Model: Logistic Regression\n",
      "Train Accuracy: 0.9391\n",
      "Test Accuracy: 0.8988\n",
      "----------------------------------------\n",
      "Model: SVM\n",
      "Train Accuracy: 0.9773\n",
      "Test Accuracy: 0.9723\n",
      "----------------------------------------\n",
      "Model: Naive Bayes\n",
      "Train Accuracy: 0.8999\n",
      "Test Accuracy: 0.8724\n",
      "----------------------------------------\n",
      "Model: Decision Tree\n",
      "Train Accuracy: 0.9943\n",
      "Test Accuracy: 0.8938\n",
      "----------------------------------------\n",
      "Model: Random Forest\n",
      "Train Accuracy: 0.9943\n",
      "Test Accuracy: 0.9340\n",
      "----------------------------------------\n",
      "Model: KNN\n",
      "Train Accuracy: 0.6586\n",
      "Test Accuracy: 0.6405\n",
      "----------------------------------------\n"
     ]
    }
   ],
   "source": [
    "# Print model name, train accuracy, and test accuracy\n",
    "for result in results:\n",
    "    print(f\"Model: {result['Model']}\")\n",
    "    print(f\"Train Accuracy: {result['Train Accuracy']:.4f}\")\n",
    "    print(f\"Test Accuracy: {result['Test Accuracy']:.4f}\")\n",
    "    print(\"-\" * 40)"
   ]
  },
  {
   "cell_type": "markdown",
   "id": "19606b83-337b-4cb5-8553-532038dd4254",
   "metadata": {},
   "source": [
    "Note:\n",
    "- Decision Tree, Random forest give an accuracy of 99.99 but since the training accuracy is more and testing accuracy is less, model failed to generalize\n",
    "- SVM Works well even for the training and testing dataset"
   ]
  },
  {
   "cell_type": "markdown",
   "id": "a9cb7b80-eff8-45ce-995e-a139cad99fea",
   "metadata": {},
   "source": [
    "### GRID SEARCH CV - OPTIMIZATION TECHNIQUE"
   ]
  },
  {
   "cell_type": "markdown",
   "id": "fc731076-16b0-4b5d-8cfb-ca5d3acf6467",
   "metadata": {},
   "source": [
    "- found the optimized value of kernal, C"
   ]
  },
  {
   "cell_type": "markdown",
   "id": "e28ec8a9-3370-4630-8d3a-b7afd611868d",
   "metadata": {},
   "source": [
    "### MODEL SELECTION AND MODEL TRANING\n",
    "- since, the SVC performed well in the spot check, so we select the SVC"
   ]
  },
  {
   "cell_type": "code",
   "execution_count": 80,
   "id": "79fddabe-98e5-499d-92b9-c15384362979",
   "metadata": {},
   "outputs": [
    {
     "data": {
      "text/html": [
       "<style>#sk-container-id-1 {\n",
       "  /* Definition of color scheme common for light and dark mode */\n",
       "  --sklearn-color-text: black;\n",
       "  --sklearn-color-line: gray;\n",
       "  /* Definition of color scheme for unfitted estimators */\n",
       "  --sklearn-color-unfitted-level-0: #fff5e6;\n",
       "  --sklearn-color-unfitted-level-1: #f6e4d2;\n",
       "  --sklearn-color-unfitted-level-2: #ffe0b3;\n",
       "  --sklearn-color-unfitted-level-3: chocolate;\n",
       "  /* Definition of color scheme for fitted estimators */\n",
       "  --sklearn-color-fitted-level-0: #f0f8ff;\n",
       "  --sklearn-color-fitted-level-1: #d4ebff;\n",
       "  --sklearn-color-fitted-level-2: #b3dbfd;\n",
       "  --sklearn-color-fitted-level-3: cornflowerblue;\n",
       "\n",
       "  /* Specific color for light theme */\n",
       "  --sklearn-color-text-on-default-background: var(--sg-text-color, var(--theme-code-foreground, var(--jp-content-font-color1, black)));\n",
       "  --sklearn-color-background: var(--sg-background-color, var(--theme-background, var(--jp-layout-color0, white)));\n",
       "  --sklearn-color-border-box: var(--sg-text-color, var(--theme-code-foreground, var(--jp-content-font-color1, black)));\n",
       "  --sklearn-color-icon: #696969;\n",
       "\n",
       "  @media (prefers-color-scheme: dark) {\n",
       "    /* Redefinition of color scheme for dark theme */\n",
       "    --sklearn-color-text-on-default-background: var(--sg-text-color, var(--theme-code-foreground, var(--jp-content-font-color1, white)));\n",
       "    --sklearn-color-background: var(--sg-background-color, var(--theme-background, var(--jp-layout-color0, #111)));\n",
       "    --sklearn-color-border-box: var(--sg-text-color, var(--theme-code-foreground, var(--jp-content-font-color1, white)));\n",
       "    --sklearn-color-icon: #878787;\n",
       "  }\n",
       "}\n",
       "\n",
       "#sk-container-id-1 {\n",
       "  color: var(--sklearn-color-text);\n",
       "}\n",
       "\n",
       "#sk-container-id-1 pre {\n",
       "  padding: 0;\n",
       "}\n",
       "\n",
       "#sk-container-id-1 input.sk-hidden--visually {\n",
       "  border: 0;\n",
       "  clip: rect(1px 1px 1px 1px);\n",
       "  clip: rect(1px, 1px, 1px, 1px);\n",
       "  height: 1px;\n",
       "  margin: -1px;\n",
       "  overflow: hidden;\n",
       "  padding: 0;\n",
       "  position: absolute;\n",
       "  width: 1px;\n",
       "}\n",
       "\n",
       "#sk-container-id-1 div.sk-dashed-wrapped {\n",
       "  border: 1px dashed var(--sklearn-color-line);\n",
       "  margin: 0 0.4em 0.5em 0.4em;\n",
       "  box-sizing: border-box;\n",
       "  padding-bottom: 0.4em;\n",
       "  background-color: var(--sklearn-color-background);\n",
       "}\n",
       "\n",
       "#sk-container-id-1 div.sk-container {\n",
       "  /* jupyter's `normalize.less` sets `[hidden] { display: none; }`\n",
       "     but bootstrap.min.css set `[hidden] { display: none !important; }`\n",
       "     so we also need the `!important` here to be able to override the\n",
       "     default hidden behavior on the sphinx rendered scikit-learn.org.\n",
       "     See: https://github.com/scikit-learn/scikit-learn/issues/21755 */\n",
       "  display: inline-block !important;\n",
       "  position: relative;\n",
       "}\n",
       "\n",
       "#sk-container-id-1 div.sk-text-repr-fallback {\n",
       "  display: none;\n",
       "}\n",
       "\n",
       "div.sk-parallel-item,\n",
       "div.sk-serial,\n",
       "div.sk-item {\n",
       "  /* draw centered vertical line to link estimators */\n",
       "  background-image: linear-gradient(var(--sklearn-color-text-on-default-background), var(--sklearn-color-text-on-default-background));\n",
       "  background-size: 2px 100%;\n",
       "  background-repeat: no-repeat;\n",
       "  background-position: center center;\n",
       "}\n",
       "\n",
       "/* Parallel-specific style estimator block */\n",
       "\n",
       "#sk-container-id-1 div.sk-parallel-item::after {\n",
       "  content: \"\";\n",
       "  width: 100%;\n",
       "  border-bottom: 2px solid var(--sklearn-color-text-on-default-background);\n",
       "  flex-grow: 1;\n",
       "}\n",
       "\n",
       "#sk-container-id-1 div.sk-parallel {\n",
       "  display: flex;\n",
       "  align-items: stretch;\n",
       "  justify-content: center;\n",
       "  background-color: var(--sklearn-color-background);\n",
       "  position: relative;\n",
       "}\n",
       "\n",
       "#sk-container-id-1 div.sk-parallel-item {\n",
       "  display: flex;\n",
       "  flex-direction: column;\n",
       "}\n",
       "\n",
       "#sk-container-id-1 div.sk-parallel-item:first-child::after {\n",
       "  align-self: flex-end;\n",
       "  width: 50%;\n",
       "}\n",
       "\n",
       "#sk-container-id-1 div.sk-parallel-item:last-child::after {\n",
       "  align-self: flex-start;\n",
       "  width: 50%;\n",
       "}\n",
       "\n",
       "#sk-container-id-1 div.sk-parallel-item:only-child::after {\n",
       "  width: 0;\n",
       "}\n",
       "\n",
       "/* Serial-specific style estimator block */\n",
       "\n",
       "#sk-container-id-1 div.sk-serial {\n",
       "  display: flex;\n",
       "  flex-direction: column;\n",
       "  align-items: center;\n",
       "  background-color: var(--sklearn-color-background);\n",
       "  padding-right: 1em;\n",
       "  padding-left: 1em;\n",
       "}\n",
       "\n",
       "\n",
       "/* Toggleable style: style used for estimator/Pipeline/ColumnTransformer box that is\n",
       "clickable and can be expanded/collapsed.\n",
       "- Pipeline and ColumnTransformer use this feature and define the default style\n",
       "- Estimators will overwrite some part of the style using the `sk-estimator` class\n",
       "*/\n",
       "\n",
       "/* Pipeline and ColumnTransformer style (default) */\n",
       "\n",
       "#sk-container-id-1 div.sk-toggleable {\n",
       "  /* Default theme specific background. It is overwritten whether we have a\n",
       "  specific estimator or a Pipeline/ColumnTransformer */\n",
       "  background-color: var(--sklearn-color-background);\n",
       "}\n",
       "\n",
       "/* Toggleable label */\n",
       "#sk-container-id-1 label.sk-toggleable__label {\n",
       "  cursor: pointer;\n",
       "  display: block;\n",
       "  width: 100%;\n",
       "  margin-bottom: 0;\n",
       "  padding: 0.5em;\n",
       "  box-sizing: border-box;\n",
       "  text-align: center;\n",
       "}\n",
       "\n",
       "#sk-container-id-1 label.sk-toggleable__label-arrow:before {\n",
       "  /* Arrow on the left of the label */\n",
       "  content: \"▸\";\n",
       "  float: left;\n",
       "  margin-right: 0.25em;\n",
       "  color: var(--sklearn-color-icon);\n",
       "}\n",
       "\n",
       "#sk-container-id-1 label.sk-toggleable__label-arrow:hover:before {\n",
       "  color: var(--sklearn-color-text);\n",
       "}\n",
       "\n",
       "/* Toggleable content - dropdown */\n",
       "\n",
       "#sk-container-id-1 div.sk-toggleable__content {\n",
       "  max-height: 0;\n",
       "  max-width: 0;\n",
       "  overflow: hidden;\n",
       "  text-align: left;\n",
       "  /* unfitted */\n",
       "  background-color: var(--sklearn-color-unfitted-level-0);\n",
       "}\n",
       "\n",
       "#sk-container-id-1 div.sk-toggleable__content.fitted {\n",
       "  /* fitted */\n",
       "  background-color: var(--sklearn-color-fitted-level-0);\n",
       "}\n",
       "\n",
       "#sk-container-id-1 div.sk-toggleable__content pre {\n",
       "  margin: 0.2em;\n",
       "  border-radius: 0.25em;\n",
       "  color: var(--sklearn-color-text);\n",
       "  /* unfitted */\n",
       "  background-color: var(--sklearn-color-unfitted-level-0);\n",
       "}\n",
       "\n",
       "#sk-container-id-1 div.sk-toggleable__content.fitted pre {\n",
       "  /* unfitted */\n",
       "  background-color: var(--sklearn-color-fitted-level-0);\n",
       "}\n",
       "\n",
       "#sk-container-id-1 input.sk-toggleable__control:checked~div.sk-toggleable__content {\n",
       "  /* Expand drop-down */\n",
       "  max-height: 200px;\n",
       "  max-width: 100%;\n",
       "  overflow: auto;\n",
       "}\n",
       "\n",
       "#sk-container-id-1 input.sk-toggleable__control:checked~label.sk-toggleable__label-arrow:before {\n",
       "  content: \"▾\";\n",
       "}\n",
       "\n",
       "/* Pipeline/ColumnTransformer-specific style */\n",
       "\n",
       "#sk-container-id-1 div.sk-label input.sk-toggleable__control:checked~label.sk-toggleable__label {\n",
       "  color: var(--sklearn-color-text);\n",
       "  background-color: var(--sklearn-color-unfitted-level-2);\n",
       "}\n",
       "\n",
       "#sk-container-id-1 div.sk-label.fitted input.sk-toggleable__control:checked~label.sk-toggleable__label {\n",
       "  background-color: var(--sklearn-color-fitted-level-2);\n",
       "}\n",
       "\n",
       "/* Estimator-specific style */\n",
       "\n",
       "/* Colorize estimator box */\n",
       "#sk-container-id-1 div.sk-estimator input.sk-toggleable__control:checked~label.sk-toggleable__label {\n",
       "  /* unfitted */\n",
       "  background-color: var(--sklearn-color-unfitted-level-2);\n",
       "}\n",
       "\n",
       "#sk-container-id-1 div.sk-estimator.fitted input.sk-toggleable__control:checked~label.sk-toggleable__label {\n",
       "  /* fitted */\n",
       "  background-color: var(--sklearn-color-fitted-level-2);\n",
       "}\n",
       "\n",
       "#sk-container-id-1 div.sk-label label.sk-toggleable__label,\n",
       "#sk-container-id-1 div.sk-label label {\n",
       "  /* The background is the default theme color */\n",
       "  color: var(--sklearn-color-text-on-default-background);\n",
       "}\n",
       "\n",
       "/* On hover, darken the color of the background */\n",
       "#sk-container-id-1 div.sk-label:hover label.sk-toggleable__label {\n",
       "  color: var(--sklearn-color-text);\n",
       "  background-color: var(--sklearn-color-unfitted-level-2);\n",
       "}\n",
       "\n",
       "/* Label box, darken color on hover, fitted */\n",
       "#sk-container-id-1 div.sk-label.fitted:hover label.sk-toggleable__label.fitted {\n",
       "  color: var(--sklearn-color-text);\n",
       "  background-color: var(--sklearn-color-fitted-level-2);\n",
       "}\n",
       "\n",
       "/* Estimator label */\n",
       "\n",
       "#sk-container-id-1 div.sk-label label {\n",
       "  font-family: monospace;\n",
       "  font-weight: bold;\n",
       "  display: inline-block;\n",
       "  line-height: 1.2em;\n",
       "}\n",
       "\n",
       "#sk-container-id-1 div.sk-label-container {\n",
       "  text-align: center;\n",
       "}\n",
       "\n",
       "/* Estimator-specific */\n",
       "#sk-container-id-1 div.sk-estimator {\n",
       "  font-family: monospace;\n",
       "  border: 1px dotted var(--sklearn-color-border-box);\n",
       "  border-radius: 0.25em;\n",
       "  box-sizing: border-box;\n",
       "  margin-bottom: 0.5em;\n",
       "  /* unfitted */\n",
       "  background-color: var(--sklearn-color-unfitted-level-0);\n",
       "}\n",
       "\n",
       "#sk-container-id-1 div.sk-estimator.fitted {\n",
       "  /* fitted */\n",
       "  background-color: var(--sklearn-color-fitted-level-0);\n",
       "}\n",
       "\n",
       "/* on hover */\n",
       "#sk-container-id-1 div.sk-estimator:hover {\n",
       "  /* unfitted */\n",
       "  background-color: var(--sklearn-color-unfitted-level-2);\n",
       "}\n",
       "\n",
       "#sk-container-id-1 div.sk-estimator.fitted:hover {\n",
       "  /* fitted */\n",
       "  background-color: var(--sklearn-color-fitted-level-2);\n",
       "}\n",
       "\n",
       "/* Specification for estimator info (e.g. \"i\" and \"?\") */\n",
       "\n",
       "/* Common style for \"i\" and \"?\" */\n",
       "\n",
       ".sk-estimator-doc-link,\n",
       "a:link.sk-estimator-doc-link,\n",
       "a:visited.sk-estimator-doc-link {\n",
       "  float: right;\n",
       "  font-size: smaller;\n",
       "  line-height: 1em;\n",
       "  font-family: monospace;\n",
       "  background-color: var(--sklearn-color-background);\n",
       "  border-radius: 1em;\n",
       "  height: 1em;\n",
       "  width: 1em;\n",
       "  text-decoration: none !important;\n",
       "  margin-left: 1ex;\n",
       "  /* unfitted */\n",
       "  border: var(--sklearn-color-unfitted-level-1) 1pt solid;\n",
       "  color: var(--sklearn-color-unfitted-level-1);\n",
       "}\n",
       "\n",
       ".sk-estimator-doc-link.fitted,\n",
       "a:link.sk-estimator-doc-link.fitted,\n",
       "a:visited.sk-estimator-doc-link.fitted {\n",
       "  /* fitted */\n",
       "  border: var(--sklearn-color-fitted-level-1) 1pt solid;\n",
       "  color: var(--sklearn-color-fitted-level-1);\n",
       "}\n",
       "\n",
       "/* On hover */\n",
       "div.sk-estimator:hover .sk-estimator-doc-link:hover,\n",
       ".sk-estimator-doc-link:hover,\n",
       "div.sk-label-container:hover .sk-estimator-doc-link:hover,\n",
       ".sk-estimator-doc-link:hover {\n",
       "  /* unfitted */\n",
       "  background-color: var(--sklearn-color-unfitted-level-3);\n",
       "  color: var(--sklearn-color-background);\n",
       "  text-decoration: none;\n",
       "}\n",
       "\n",
       "div.sk-estimator.fitted:hover .sk-estimator-doc-link.fitted:hover,\n",
       ".sk-estimator-doc-link.fitted:hover,\n",
       "div.sk-label-container:hover .sk-estimator-doc-link.fitted:hover,\n",
       ".sk-estimator-doc-link.fitted:hover {\n",
       "  /* fitted */\n",
       "  background-color: var(--sklearn-color-fitted-level-3);\n",
       "  color: var(--sklearn-color-background);\n",
       "  text-decoration: none;\n",
       "}\n",
       "\n",
       "/* Span, style for the box shown on hovering the info icon */\n",
       ".sk-estimator-doc-link span {\n",
       "  display: none;\n",
       "  z-index: 9999;\n",
       "  position: relative;\n",
       "  font-weight: normal;\n",
       "  right: .2ex;\n",
       "  padding: .5ex;\n",
       "  margin: .5ex;\n",
       "  width: min-content;\n",
       "  min-width: 20ex;\n",
       "  max-width: 50ex;\n",
       "  color: var(--sklearn-color-text);\n",
       "  box-shadow: 2pt 2pt 4pt #999;\n",
       "  /* unfitted */\n",
       "  background: var(--sklearn-color-unfitted-level-0);\n",
       "  border: .5pt solid var(--sklearn-color-unfitted-level-3);\n",
       "}\n",
       "\n",
       ".sk-estimator-doc-link.fitted span {\n",
       "  /* fitted */\n",
       "  background: var(--sklearn-color-fitted-level-0);\n",
       "  border: var(--sklearn-color-fitted-level-3);\n",
       "}\n",
       "\n",
       ".sk-estimator-doc-link:hover span {\n",
       "  display: block;\n",
       "}\n",
       "\n",
       "/* \"?\"-specific style due to the `<a>` HTML tag */\n",
       "\n",
       "#sk-container-id-1 a.estimator_doc_link {\n",
       "  float: right;\n",
       "  font-size: 1rem;\n",
       "  line-height: 1em;\n",
       "  font-family: monospace;\n",
       "  background-color: var(--sklearn-color-background);\n",
       "  border-radius: 1rem;\n",
       "  height: 1rem;\n",
       "  width: 1rem;\n",
       "  text-decoration: none;\n",
       "  /* unfitted */\n",
       "  color: var(--sklearn-color-unfitted-level-1);\n",
       "  border: var(--sklearn-color-unfitted-level-1) 1pt solid;\n",
       "}\n",
       "\n",
       "#sk-container-id-1 a.estimator_doc_link.fitted {\n",
       "  /* fitted */\n",
       "  border: var(--sklearn-color-fitted-level-1) 1pt solid;\n",
       "  color: var(--sklearn-color-fitted-level-1);\n",
       "}\n",
       "\n",
       "/* On hover */\n",
       "#sk-container-id-1 a.estimator_doc_link:hover {\n",
       "  /* unfitted */\n",
       "  background-color: var(--sklearn-color-unfitted-level-3);\n",
       "  color: var(--sklearn-color-background);\n",
       "  text-decoration: none;\n",
       "}\n",
       "\n",
       "#sk-container-id-1 a.estimator_doc_link.fitted:hover {\n",
       "  /* fitted */\n",
       "  background-color: var(--sklearn-color-fitted-level-3);\n",
       "}\n",
       "</style><div id=\"sk-container-id-1\" class=\"sk-top-container\"><div class=\"sk-text-repr-fallback\"><pre>SVC(C=1.26, random_state=42)</pre><b>In a Jupyter environment, please rerun this cell to show the HTML representation or trust the notebook. <br />On GitHub, the HTML representation is unable to render, please try loading this page with nbviewer.org.</b></div><div class=\"sk-container\" hidden><div class=\"sk-item\"><div class=\"sk-estimator fitted sk-toggleable\"><input class=\"sk-toggleable__control sk-hidden--visually\" id=\"sk-estimator-id-1\" type=\"checkbox\" checked><label for=\"sk-estimator-id-1\" class=\"sk-toggleable__label fitted sk-toggleable__label-arrow fitted\">&nbsp;&nbsp;SVC<a class=\"sk-estimator-doc-link fitted\" rel=\"noreferrer\" target=\"_blank\" href=\"https://scikit-learn.org/1.5/modules/generated/sklearn.svm.SVC.html\">?<span>Documentation for SVC</span></a><span class=\"sk-estimator-doc-link fitted\">i<span>Fitted</span></span></label><div class=\"sk-toggleable__content fitted\"><pre>SVC(C=1.26, random_state=42)</pre></div> </div></div></div></div>"
      ],
      "text/plain": [
       "SVC(C=1.26, random_state=42)"
      ]
     },
     "execution_count": 80,
     "metadata": {},
     "output_type": "execute_result"
    }
   ],
   "source": [
    "# Create the model with the best parameters\n",
    "svc_model = SVC(random_state=42, kernel='rbf',C=1.26)\n",
    "\n",
    "# Train the model on the training data\n",
    "svc_model.fit(X_train, y_train)"
   ]
  },
  {
   "cell_type": "markdown",
   "id": "f82dd63e-a2a3-48d6-af69-f2ec35daf8b7",
   "metadata": {},
   "source": [
    "### MODEL EVALUATION "
   ]
  },
  {
   "cell_type": "code",
   "execution_count": 82,
   "id": "bdcc93fd-3c60-439a-a300-37dbf9400dd1",
   "metadata": {},
   "outputs": [
    {
     "name": "stdout",
     "output_type": "stream",
     "text": [
      "Test Accuracy: 97.56 %\n"
     ]
    },
    {
     "data": {
      "image/png": "[encoded data removed]",
      "text/plain": [
       "<Figure size 800x600 with 2 Axes>"
      ]
     },
     "metadata": {},
     "output_type": "display_data"
    }
   ],
   "source": [
    "# Predict on the test data\n",
    "y_test_pred = svc_model.predict(X_test)\n",
    "\n",
    "# Calculate accuracy for train and test sets\n",
    "test_accuracy = accuracy_score(y_test, y_test_pred)\n",
    "\n",
    "# Print the accuracies\n",
    "print(\"Test Accuracy: {:.2f} %\".format(test_accuracy * 100))\n",
    "\n",
    "# Confusion Matrix for the test set\n",
    "cm = confusion_matrix(y_test, y_test_pred)\n",
    "\n",
    "# Plot the confusion matrix using seaborn heatmap\n",
    "plt.figure(figsize=(8, 6))\n",
    "sns.heatmap(cm, annot=True, fmt='d', cmap='Blues',xticklabels=[\"Negative\",\"Positive\",\"Neutral\"],yticklabels=[\"Negative\",\"Positive\",\"Neutral\"])\n",
    "plt.title('Confusion Matrix - SVC Model')\n",
    "plt.xlabel('Predicted Label')\n",
    "plt.ylabel('True Label')\n",
    "plt.show()"
   ]
  },
  {
   "cell_type": "code",
   "execution_count": 83,
   "id": "78100e67-c315-4fcd-8468-0a197c6322a5",
   "metadata": {},
   "outputs": [
    {
     "name": "stdout",
     "output_type": "stream",
     "text": [
      "              precision    recall  f1-score   support\n",
      "\n",
      "           0       1.00      0.94      0.97      2272\n",
      "           1       1.00      0.99      0.99      2243\n",
      "           2       0.94      0.99      0.96      2247\n",
      "\n",
      "    accuracy                           0.98      6762\n",
      "   macro avg       0.98      0.98      0.98      6762\n",
      "weighted avg       0.98      0.98      0.98      6762\n",
      "\n"
     ]
    }
   ],
   "source": [
    "# Classification report \n",
    "print(classification_report(y_test, y_test_pred))"
   ]
  },
  {
   "cell_type": "code",
   "execution_count": 84,
   "id": "841e4eb8-296e-48f7-be09-ad69429bea53",
   "metadata": {},
   "outputs": [],
   "source": [
    "# Model is created and working with a very good accuracy of 99%."
   ]
  },
  {
   "cell_type": "markdown",
   "id": "62f3bc03-39de-4005-9525-e84effc2335f",
   "metadata": {},
   "source": [
    "### MODEL TESTING WITH REAL DATA "
   ]
  },
  {
   "cell_type": "code",
   "execution_count": 184,
   "id": "b356833f-d444-4c5f-893e-d304bd4eb56d",
   "metadata": {},
   "outputs": [],
   "source": [
    "def predict_sentiment(review):\n",
    "    review = text_cleaning(review)\n",
    "    review = preprocess_text(review)\n",
    "    review_vectorized = vectorizer.transform([review])\n",
    "    review_output = svc_model.predict(review_vectorized)\n",
    "\n",
    "    if review_output == [1]:\n",
    "        print(\"SENTIMENT: POSITIVE 😊\")\n",
    "    elif review_output == [2]:\n",
    "        print(\"SENTIMENT: NEUTRAL 😐\")\n",
    "    else:\n",
    "        print(\"SENTIMENT: NEGATIVE 😡\")"
   ]
  },
  {
   "cell_type": "code",
   "execution_count": 212,
   "id": "674d5c32-a694-4dba-98be-9b9a40a9b20b",
   "metadata": {},
   "outputs": [],
   "source": [
    "# real life review samples review1(positive) and review2(negative)\n",
    "neg_review = '''\n",
    "not recommend didnt expect cable thin easily thickness guitar cable ive use not sure \n",
    "longterm durability signal lossinterference foresight id spend couple extra buck thicker cable still work \n",
    "inexpensiveedit months later dead already wire fray right angle jack get pay\n",
    "'''\n",
    "pos_review = '''\n",
    "This is a good product. These work very well and are inexpensive and easy enough to put on. I like.\n",
    "'''\n",
    "neu_review = '''\n",
    "Like many say, they do slip out easy so you need to keep that in mind, otherwise for the price and overall quality they are good cables.\n",
    "'''"
   ]
  },
  {
   "cell_type": "code",
   "execution_count": 214,
   "id": "6f739140-6692-4087-8842-bc6f7f47a3d5",
   "metadata": {},
   "outputs": [
    {
     "name": "stdout",
     "output_type": "stream",
     "text": [
      "SENTIMENT: NEGATIVE 😡\n"
     ]
    }
   ],
   "source": [
    "predict_sentiment(neg_review)"
   ]
  },
  {
   "cell_type": "code",
   "execution_count": 216,
   "id": "59b51407-6e2c-434b-99a3-67760d606af9",
   "metadata": {},
   "outputs": [
    {
     "name": "stdout",
     "output_type": "stream",
     "text": [
      "SENTIMENT: POSITIVE 😊\n"
     ]
    }
   ],
   "source": [
    "predict_sentiment(pos_review)"
   ]
  },
  {
   "cell_type": "code",
   "execution_count": 218,
   "id": "71cafa15-0885-4e19-b7d7-f638330937fb",
   "metadata": {},
   "outputs": [
    {
     "name": "stdout",
     "output_type": "stream",
     "text": [
      "SENTIMENT: NEUTRAL 😐\n"
     ]
    }
   ],
   "source": [
    "predict_sentiment(neu_review)"
   ]
  }
 ],
 "metadata": {
  "kernelspec": {
   "display_name": "Python [conda env:base] *",
   "language": "python",
   "name": "conda-base-py"
  },
  "language_info": {
   "codemirror_mode": {
    "name": "ipython",
    "version": 3
   },
   "file_extension": ".py",
   "mimetype": "text/x-python",
   "name": "python",
   "nbconvert_exporter": "python",
   "pygments_lexer": "ipython3",
   "version": "3.12.7"
  }
 },
 "nbformat": 4,
 "nbformat_minor": 5
}
